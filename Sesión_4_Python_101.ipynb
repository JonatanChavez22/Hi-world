{
  "nbformat": 4,
  "nbformat_minor": 0,
  "metadata": {
    "colab": {
      "name": "Sesión 4 - Python 101",
      "provenance": [],
      "collapsed_sections": [],
      "authorship_tag": "ABX9TyOqTO6ttW8lPeVoh9o2WNi2",
      "include_colab_link": true
    },
    "kernelspec": {
      "name": "python3",
      "display_name": "Python 3"
    }
  },
  "cells": [
    {
      "cell_type": "markdown",
      "metadata": {
        "id": "view-in-github",
        "colab_type": "text"
      },
      "source": [
        "<a href=\"https://colab.research.google.com/github/JonatanChavez22/Hi-world/blob/master/Sesi%C3%B3n_4_Python_101.ipynb\" target=\"_parent\"><img src=\"https://colab.research.google.com/assets/colab-badge.svg\" alt=\"Open In Colab\"/></a>"
      ]
    },
    {
      "cell_type": "markdown",
      "metadata": {
        "id": "jZK9T7KradmB"
      },
      "source": [
        "Instalacion del paquete de Microsoft para consumir los servicios cognitivos de vision."
      ]
    },
    {
      "cell_type": "code",
      "metadata": {
        "id": "hL3RYNzHXBHm",
        "outputId": "f622681a-1a94-4230-f76a-191dbf420140",
        "colab": {
          "base_uri": "https://localhost:8080/",
          "height": 248
        }
      },
      "source": [
        "!pip install --upgrade azure-cognitiveservices-vision-computervision"
      ],
      "execution_count": 10,
      "outputs": [
        {
          "output_type": "stream",
          "text": [
            "Requirement already up-to-date: azure-cognitiveservices-vision-computervision in /usr/local/lib/python3.6/dist-packages (0.7.0)\n",
            "Requirement already satisfied, skipping upgrade: msrest>=0.5.0 in /usr/local/lib/python3.6/dist-packages (from azure-cognitiveservices-vision-computervision) (0.6.19)\n",
            "Requirement already satisfied, skipping upgrade: azure-common~=1.1 in /usr/local/lib/python3.6/dist-packages (from azure-cognitiveservices-vision-computervision) (1.1.25)\n",
            "Requirement already satisfied, skipping upgrade: requests~=2.16 in /usr/local/lib/python3.6/dist-packages (from msrest>=0.5.0->azure-cognitiveservices-vision-computervision) (2.23.0)\n",
            "Requirement already satisfied, skipping upgrade: certifi>=2017.4.17 in /usr/local/lib/python3.6/dist-packages (from msrest>=0.5.0->azure-cognitiveservices-vision-computervision) (2020.6.20)\n",
            "Requirement already satisfied, skipping upgrade: isodate>=0.6.0 in /usr/local/lib/python3.6/dist-packages (from msrest>=0.5.0->azure-cognitiveservices-vision-computervision) (0.6.0)\n",
            "Requirement already satisfied, skipping upgrade: requests-oauthlib>=0.5.0 in /usr/local/lib/python3.6/dist-packages (from msrest>=0.5.0->azure-cognitiveservices-vision-computervision) (1.3.0)\n",
            "Requirement already satisfied, skipping upgrade: idna<3,>=2.5 in /usr/local/lib/python3.6/dist-packages (from requests~=2.16->msrest>=0.5.0->azure-cognitiveservices-vision-computervision) (2.10)\n",
            "Requirement already satisfied, skipping upgrade: chardet<4,>=3.0.2 in /usr/local/lib/python3.6/dist-packages (from requests~=2.16->msrest>=0.5.0->azure-cognitiveservices-vision-computervision) (3.0.4)\n",
            "Requirement already satisfied, skipping upgrade: urllib3!=1.25.0,!=1.25.1,<1.26,>=1.21.1 in /usr/local/lib/python3.6/dist-packages (from requests~=2.16->msrest>=0.5.0->azure-cognitiveservices-vision-computervision) (1.24.3)\n",
            "Requirement already satisfied, skipping upgrade: six in /usr/local/lib/python3.6/dist-packages (from isodate>=0.6.0->msrest>=0.5.0->azure-cognitiveservices-vision-computervision) (1.15.0)\n",
            "Requirement already satisfied, skipping upgrade: oauthlib>=3.0.0 in /usr/local/lib/python3.6/dist-packages (from requests-oauthlib>=0.5.0->msrest>=0.5.0->azure-cognitiveservices-vision-computervision) (3.1.0)\n"
          ],
          "name": "stdout"
        }
      ]
    },
    {
      "cell_type": "markdown",
      "metadata": {
        "id": "VPYRGK0Paqo_"
      },
      "source": [
        "Importamos las bibliotecas de funcion que vamos a utilizar.\n"
      ]
    },
    {
      "cell_type": "code",
      "metadata": {
        "id": "nRCyhmNQa6ID"
      },
      "source": [
        "# Funcionalidades para conectarnos con nuestro recurso de Congnitive Services\n",
        "# y validar nuestro acceso.\n",
        "from azure.cognitiveservices.vision.computervision import ComputerVisionClient\n",
        "from azure.cognitiveservices.vision.computervision.models import OperationStatusCodes\n",
        "from azure.cognitiveservices.vision.computervision.models import VisualFeatureTypes\n",
        "from msrest.authentication import CognitiveServicesCredentials\n",
        "\n",
        "#Paqueteria de Python para cceder a recursos de la maquina.\n",
        "from array import array\n",
        "import os\n",
        "from PIL import Image # Esta es para trabajar con imagenes.\n",
        "import sys\n",
        "import time"
      ],
      "execution_count": 11,
      "outputs": []
    },
    {
      "cell_type": "markdown",
      "metadata": {
        "id": "gUlgT69dcR-w"
      },
      "source": [
        "Lo primero es que necesitamos autenticar nuestro acceso para poder consumir el recurso."
      ]
    },
    {
      "cell_type": "code",
      "metadata": {
        "id": "RLZ8rtYTcG2t"
      },
      "source": [
        "endpoint = \"\"\n",
        "subscription_key = \"\"\n",
        "\n",
        "computervision_client = ComputerVisionClient(endpoint, CognitiveServicesCredentials(subscription_key))"
      ],
      "execution_count": 12,
      "outputs": []
    },
    {
      "cell_type": "markdown",
      "metadata": {
        "id": "AuvSGhhidRCi"
      },
      "source": [
        "Procedemos a consumir el servicio para analizar una imagen."
      ]
    },
    {
      "cell_type": "code",
      "metadata": {
        "id": "QDpLoVSYdGdg"
      },
      "source": [
        "# Ponemos un URL de la imagen que vamos a anallizar.\n",
        "remote_image_url = \"https://okdiario.com/img/2019/09/26/curiosidades-de-la-pizza_--es-italiana-655x368.jpg\""
      ],
      "execution_count": 38,
      "outputs": []
    },
    {
      "cell_type": "code",
      "metadata": {
        "id": "UhoqR2JGeWB4",
        "outputId": "8596b61b-fc5a-4f5c-fb43-df1a25b58dae",
        "colab": {
          "base_uri": "https://localhost:8080/",
          "height": 34
        }
      },
      "source": [
        "# Descripcion de los contenido de una imagen.\n",
        "print(\"===== Vamos a deescribir el contenido de la imagen =====\")\n",
        "\n",
        "\n",
        "# Consumimos el servicio Computer Vision.\n",
        "description_results = computervision_client.describe_image(remote_image_url )"
      ],
      "execution_count": 40,
      "outputs": [
        {
          "output_type": "stream",
          "text": [
            "===== Vamos a deescribir el contenido de la imagen =====\n"
          ],
          "name": "stdout"
        }
      ]
    },
    {
      "cell_type": "code",
      "metadata": {
        "id": "ioS8qsVTsFSn",
        "outputId": "c345e0ea-3c5e-4b7c-e6f0-448e621dd228",
        "colab": {
          "base_uri": "https://localhost:8080/",
          "height": 281
        }
      },
      "source": [
        "from pprint import pprint \n",
        "\n",
        "\n",
        "pprint(description_results.as_dict())"
      ],
      "execution_count": 41,
      "outputs": [
        {
          "output_type": "stream",
          "text": [
            "{'captions': [{'confidence': 0.5382030010223389,\n",
            "               'text': 'a pepperoni pizza on a pan'}],\n",
            " 'metadata': {'format': 'Jpeg', 'height': 368, 'width': 655},\n",
            " 'request_id': 'a491d369-d94c-4096-b2e3-4b57000517b8',\n",
            " 'tags': ['pizza',\n",
            "          'dish',\n",
            "          'food',\n",
            "          'pepperoni',\n",
            "          'indoor',\n",
            "          'sitting',\n",
            "          'pan',\n",
            "          'cheese',\n",
            "          'tray',\n",
            "          'huge',\n",
            "          'cooked']}\n"
          ],
          "name": "stdout"
        }
      ]
    },
    {
      "cell_type": "code",
      "metadata": {
        "id": "GPsZykRLfYcd",
        "outputId": "7b3f9ca5-6613-4607-fb8e-44372c1a24fe",
        "colab": {
          "base_uri": "https://localhost:8080/",
          "height": 52
        }
      },
      "source": [
        "# Jala las descripciones de la respuesta \n",
        "print(\"Descricpion de la imagen: \")\n",
        "if (len(description_results.captions) == 0):\n",
        "    print(\"No description detected.\")\n",
        "else:\n",
        "    for caption in description_results.captions:\n",
        "        print(\"'{}' with confidence {:.2f}%\".format(caption.text, caption.confidence * 100))"
      ],
      "execution_count": 42,
      "outputs": [
        {
          "output_type": "stream",
          "text": [
            "Descricpion de la imagen: \n",
            "'a pepperoni pizza on a pan' with confidence 53.82%\n"
          ],
          "name": "stdout"
        }
      ]
    },
    {
      "cell_type": "code",
      "metadata": {
        "id": "Te1IdDY2tUnl",
        "outputId": "0b0a560c-f509-4771-e150-41efa3184ec4",
        "colab": {
          "base_uri": "https://localhost:8080/",
          "height": 70
        }
      },
      "source": [
        "print(\"Descricpion de la imagen: \")\n",
        "if len(description_results.as_dict()['captions']) > 0:\n",
        "    print(\"encontre algo.\")\n",
        "    for elemento in description_results.as_dict()['captions']:\n",
        "        print(elemento[\"text\"])\n",
        "else:\n",
        "    print(\"No encontre nada.\")    "
      ],
      "execution_count": 33,
      "outputs": [
        {
          "output_type": "stream",
          "text": [
            "Descricpion de la imagen: \n",
            "encontre algo.\n",
            "a group of people on a stage\n"
          ],
          "name": "stdout"
        }
      ]
    }
  ]
}